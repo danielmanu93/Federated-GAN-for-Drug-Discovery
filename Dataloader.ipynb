{
 "cells": [
  {
   "cell_type": "code",
   "execution_count": null,
   "metadata": {},
   "outputs": [],
   "source": [
    "from PIL import Image\n",
    "import torch\n",
    "import os\n",
    "import random\n",
    "\n",
    "from torch.utils import data\n",
    "from torchvision import transforms as T\n",
    "from torchvision.datasets import ImageFolder\n",
    "from data.molecular_dataset import MolecularDataset"
   ]
  },
  {
   "cell_type": "code",
   "execution_count": null,
   "metadata": {},
   "outputs": [],
   "source": [
    "class Molecular(data.Dataset):\n",
    "    \"\"\"Dataset class for the Molecular dataset\"\"\"\n",
    "    \n",
    "    def __init__(self, data_dir):\n",
    "        self.data = MolecularDataset()\n",
    "        self.data.load(data_dir)\n",
    "\n",
    "    def __getitem__(self, index):\n",
    "        \"\"\"Return one molecule and its corresponding attribute label\"\"\"\n",
    "\n",
    "        return index, self.data.data[index], self.data.smiles[index],\\\n",
    "               self.data.data_S[index], self.data.data_A[index],\\\n",
    "               self.data.data_X[index], self.data.data_D[index],\\\n",
    "               self.data.data_F[index], self.data.data_Le[index],\\\n",
    "               self.data.data_Lv[index]\n",
    "\n",
    "    def __len__(self):\n",
    "        \"\"\"Return the number of molecules\"\"\"\n",
    "        return len(self.data)\n",
    "    \n",
    "def get_loader(image_dir, batch_size, mode, num_workers=1):\n",
    "    \"\"\"Build and return a data loader.\"\"\"\n",
    "\n",
    "    dataset = Molecular(image_dir)\n",
    "\n",
    "    data_loader = data.DataLoader(dataset=dataset,\n",
    "                                  batch_size=batch_size,\n",
    "                                  shuffle=(mode=='train'),\n",
    "                                  num_workers=num_workers)\n",
    "    return data_loader"
   ]
  }
 ],
 "metadata": {
  "kernelspec": {
   "display_name": "Python 3",
   "language": "python",
   "name": "python3"
  },
  "language_info": {
   "codemirror_mode": {
    "name": "ipython",
    "version": 3
   },
   "file_extension": ".py",
   "mimetype": "text/x-python",
   "name": "python",
   "nbconvert_exporter": "python",
   "pygments_lexer": "ipython3",
   "version": "3.7.3"
  }
 },
 "nbformat": 4,
 "nbformat_minor": 2
}
